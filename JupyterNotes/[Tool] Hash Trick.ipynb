{
 "cells": [
  {
   "cell_type": "markdown",
   "metadata": {},
   "source": [
    "# Feature Hashing"
   ]
  },
  {
   "cell_type": "markdown",
   "metadata": {},
   "source": [
    "大多数机器学习算法, 都需要输入的数据是实数矩阵. 而从原始数据到实数矩阵的过程就是特征工程的工作. Feature Hashing ( aka. Hash Trick ) 是特征工程的一种技术.\n",
    "\n",
    "通常处理类别型特征的 One-Hot-Encoding 相比, Hash Trick 有以下优点和存在的问题:\n",
    "\n",
    "优点: \n",
    "- 实现非常简单\n",
    "- 不需要提前准备映射的字典, ( OHE 需要提前将所有类别型特征的值和二进制编码一一对应起来, 然后这个映射关系, 在训练和应用阶段都需要使用, 在有超多值的特征的情况下, 这就是一笔很大的开销 )\n",
    "- 适用于在线学习, ( 因为 OHE 没办法提前对所有数据准备映射 )\n",
    "\n",
    "问题:\n",
    "- 哈希碰撞 (实践得出, 通常碰撞不怎么影响模型的精度)\n",
    "- 经过 特征Hash 之后的特征的值没有可解释性, 也不可逆\n"
   ]
  },
  {
   "cell_type": "markdown",
   "metadata": {},
   "source": [
    "WIKI 上简单实现的伪代码如下, N 为输出特性向量的维度\n",
    "\n",
    "```\n",
    "function hashing_vectorizer(features : array of string, N : integer):\n",
    "     x := new vector[N]\n",
    "     for f in features:\n",
    "         h := hash(f)\n",
    "         x[h mod N] += 1\n",
    "     return x\n",
    "```"
   ]
  },
  {
   "cell_type": "markdown",
   "metadata": {},
   "source": [
    "在实际使用中, 我们把所有原始特征的特征 Name 和 Value 进行拼接后作为输入 (e.g. category_1101); 而输出的值在预先设定好的 [0,N] 范围内, 直接可以转化为 N 维的稀疏向量. \n",
    "\n",
    "至于 N 的选择是需要调整的; 过小的维度会导致过多的碰撞, 而过大的维度, 又会导致模型参数的维度过大 (通常选择为 2^10 左右)."
   ]
  },
  {
   "cell_type": "markdown",
   "metadata": {},
   "source": [
    "## Ref\n",
    "\n",
    "- https://stackoverflow.com/questions/8673035/what-is-feature-hashing-hashing-trick\n",
    "- https://www.quora.com/Can-you-explain-feature-hashing-in-an-easily-understandable-way?utm_medium=organic&utm_source=google_rich_qa&utm_campaign=google_rich_qa"
   ]
  },
  {
   "cell_type": "markdown",
   "metadata": {},
   "source": [
    "## Appendix"
   ]
  },
  {
   "cell_type": "code",
   "execution_count": 9,
   "metadata": {},
   "outputs": [
    {
     "name": "stdout",
     "output_type": "stream",
     "text": [
      "   pop   state  year\n",
      "0  1.5    Ohio  2000\n",
      "1  1.7    Ohio  2001\n",
      "2  3.6    Ohio  2002\n",
      "3  2.4  Nevada  2001\n",
      "4  2.9  Nevada  2002\n"
     ]
    },
    {
     "data": {
      "text/html": [
       "<div>\n",
       "<style scoped>\n",
       "    .dataframe tbody tr th:only-of-type {\n",
       "        vertical-align: middle;\n",
       "    }\n",
       "\n",
       "    .dataframe tbody tr th {\n",
       "        vertical-align: top;\n",
       "    }\n",
       "\n",
       "    .dataframe thead th {\n",
       "        text-align: right;\n",
       "    }\n",
       "</style>\n",
       "<table border=\"1\" class=\"dataframe\">\n",
       "  <thead>\n",
       "    <tr style=\"text-align: right;\">\n",
       "      <th></th>\n",
       "      <th>pop</th>\n",
       "      <th>year</th>\n",
       "      <th>state_0</th>\n",
       "      <th>state_1</th>\n",
       "      <th>state_2</th>\n",
       "      <th>state_3</th>\n",
       "    </tr>\n",
       "  </thead>\n",
       "  <tbody>\n",
       "    <tr>\n",
       "      <th>0</th>\n",
       "      <td>1.5</td>\n",
       "      <td>2000</td>\n",
       "      <td>0</td>\n",
       "      <td>0</td>\n",
       "      <td>1</td>\n",
       "      <td>0</td>\n",
       "    </tr>\n",
       "    <tr>\n",
       "      <th>1</th>\n",
       "      <td>1.7</td>\n",
       "      <td>2001</td>\n",
       "      <td>0</td>\n",
       "      <td>0</td>\n",
       "      <td>1</td>\n",
       "      <td>0</td>\n",
       "    </tr>\n",
       "    <tr>\n",
       "      <th>2</th>\n",
       "      <td>3.6</td>\n",
       "      <td>2002</td>\n",
       "      <td>0</td>\n",
       "      <td>0</td>\n",
       "      <td>1</td>\n",
       "      <td>0</td>\n",
       "    </tr>\n",
       "    <tr>\n",
       "      <th>3</th>\n",
       "      <td>2.4</td>\n",
       "      <td>2001</td>\n",
       "      <td>0</td>\n",
       "      <td>1</td>\n",
       "      <td>0</td>\n",
       "      <td>0</td>\n",
       "    </tr>\n",
       "    <tr>\n",
       "      <th>4</th>\n",
       "      <td>2.9</td>\n",
       "      <td>2002</td>\n",
       "      <td>0</td>\n",
       "      <td>1</td>\n",
       "      <td>0</td>\n",
       "      <td>0</td>\n",
       "    </tr>\n",
       "  </tbody>\n",
       "</table>\n",
       "</div>"
      ],
      "text/plain": [
       "   pop  year  state_0  state_1  state_2  state_3\n",
       "0  1.5  2000        0        0        1        0\n",
       "1  1.7  2001        0        0        1        0\n",
       "2  3.6  2002        0        0        1        0\n",
       "3  2.4  2001        0        1        0        0\n",
       "4  2.9  2002        0        1        0        0"
      ]
     },
     "execution_count": 9,
     "metadata": {},
     "output_type": "execute_result"
    }
   ],
   "source": [
    "import pandas as pd\n",
    "import numpy as np\n",
    "\n",
    "data = {'state': ['Ohio', 'Ohio', 'Ohio', 'Nevada', 'Nevada'],\n",
    "        'year': [2000, 2001, 2002, 2001, 2002],\n",
    "        'pop': [1.5, 1.7, 3.6, 2.4, 2.9]}\n",
    "\n",
    "data = pd.DataFrame(data)\n",
    "\n",
    "def hash_col(df, col, N):\n",
    "    cols = [col + \"_\" + str(i) for i in range(N)]\n",
    "    def xform(x): tmp = [0 for i in range(N)]; tmp[hash(x) % N] = 1; return pd.Series(tmp,index=cols)\n",
    "    df[cols] = df[col].apply(xform)\n",
    "    return df.drop(col,axis=1)\n",
    "print(data)\n",
    "hash_col(data, 'state', 4)"
   ]
  },
  {
   "cell_type": "code",
   "execution_count": null,
   "metadata": {},
   "outputs": [],
   "source": []
  }
 ],
 "metadata": {
  "kernelspec": {
   "display_name": "Python 3",
   "language": "python",
   "name": "python3"
  },
  "language_info": {
   "codemirror_mode": {
    "name": "ipython",
    "version": 3
   },
   "file_extension": ".py",
   "mimetype": "text/x-python",
   "name": "python",
   "nbconvert_exporter": "python",
   "pygments_lexer": "ipython3",
   "version": "3.5.4"
  }
 },
 "nbformat": 4,
 "nbformat_minor": 2
}
